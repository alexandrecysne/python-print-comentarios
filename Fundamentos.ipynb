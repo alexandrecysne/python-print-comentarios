{
  "nbformat": 4,
  "nbformat_minor": 0,
  "metadata": {
    "colab": {
      "provenance": [],
      "mount_file_id": "11XYopWjVsj56VOq3j4EH9X8087HXOExi",
      "authorship_tag": "ABX9TyOzis6H4wwUAl+BF9rBvVTA",
      "include_colab_link": true
    },
    "kernelspec": {
      "name": "python3",
      "display_name": "Python 3"
    },
    "language_info": {
      "name": "python"
    }
  },
  "cells": [
    {
      "cell_type": "markdown",
      "metadata": {
        "id": "view-in-github",
        "colab_type": "text"
      },
      "source": [
        "<a href=\"https://colab.research.google.com/github/alexandrecysne/python-print-comentarios/blob/main/Fundamentos.ipynb\" target=\"_parent\"><img src=\"https://colab.research.google.com/assets/colab-badge.svg\" alt=\"Open In Colab\"/></a>"
      ]
    },
    {
      "cell_type": "code",
      "execution_count": 21,
      "metadata": {
        "colab": {
          "base_uri": "https://localhost:8080/"
        },
        "id": "hgxVB1bHtqNW",
        "outputId": "290c6941-670c-4ec4-fe5a-4df6856210c8"
      },
      "outputs": [
        {
          "output_type": "stream",
          "name": "stdout",
          "text": [
            "olá python\n",
            "olá mundo\n",
            "olá mundo\n",
            "10\n",
            "20.5\n",
            "Alexandre Cysne Esteves 1977 1.97\n",
            "Alexandre-Cysne-Esteves-1977-1.97\n",
            "Alexandre-Cysne-Esteves-1977-1.97FimAlexandre-Cysne-Esteves-1977-1.97!!!Alexandre Cysne Esteves \n",
            " nascimento ano de 1977\n",
            "Alexandre\n",
            "Cysne\n",
            "Esteves\n",
            "A nota da certificação do Alexandre Cysne foi 100 pontos\n",
            "A nota da certificação do Alexandre Cysne foi 100 pontos\n",
            "A nota da certificação do Alexandre Cysne foi 100 pontos\n"
          ]
        }
      ],
      "source": [
        "# isto é um comentário em python\n",
        "# em python não tem comentários de várias linhas\n",
        "\n",
        "# exemplo de print com um comentário no final\n",
        "print(\"olá python\"); # isto é um comentário depois do print\n",
        "\n",
        "# uma string de multiplas linhas em python\n",
        "''' Este é um texto de de multiplas linhas\n",
        "aqui ainda continua\n",
        "e aqui termina\n",
        "'''\n",
        "\n",
        "# outros exemplos de print\n",
        "print(\"olá mundo\")  # print de string\n",
        "print('olá mundo')  # print de string\n",
        "print(10)           # print de inteiro\n",
        "print(20.5)         # print de valor\n",
        "print(\"Alexandre\",\"Cysne\",\"Esteves\",1977,1.97) # print de varios valores\n",
        "print(\"Alexandre\",\"Cysne\",\"Esteves\",1977,1.97, sep='-') # print de varios valores com parámetro de separador\n",
        "print(\"Alexandre\",\"Cysne\",\"Esteves\",1977,1.97, sep='-', end='Fim') # print de varios valores com parámetro de separador e fim\n",
        "print(\"Alexandre\",\"Cysne\",\"Esteves\",1977,1.97, sep='-', end='!!!') # print de varios valores com parámetro de separador e fim\n",
        "print(\"Alexandre Cysne Esteves \\n nascimento ano de 1977\") # print com quebra de linha\n",
        "print(\"Alexandre\", \"Cysne\", \"Esteves\", sep='\\n') # print com quebra de linha no parametro separador\n",
        "print(\"A nota da certificação do %s foi %s pontos\" % (\"Alexandre Cysne\",\"100\")) # print com parametros\n",
        "print(\"A nota da certificação do {} foi {} pontos\".format(\"Alexandre Cysne\",\"100\")) # print com parametros\n",
        "print(\"A nota da certificação do\" + \" Alexandre\" + \" Cysne\" + \" foi\" + \" 100 pontos\") # print com concatenação de string\n",
        "\n",
        "\n"
      ]
    }
  ]
}